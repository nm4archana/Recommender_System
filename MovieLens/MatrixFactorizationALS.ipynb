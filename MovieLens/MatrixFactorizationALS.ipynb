{
 "cells": [
  {
   "cell_type": "code",
   "execution_count": null,
   "metadata": {},
   "outputs": [],
   "source": [
    "\"\"\"\n",
    "Date   : Nov 14 2017\n",
    "@author: Archana Neelipalayam Masilamani\n",
    "Task Description:\n",
    "Recommend movies by Collaborative Filtering method for users by \n",
    "using Matrix Factorizarion - Alternating Least Square method. \n",
    "This project is implemented using  spark MLlib library and Python\n",
    "\n",
    "The dataset used is MovieLens data\n",
    "\"\"\""
   ]
  },
  {
   "cell_type": "code",
   "execution_count": null,
   "metadata": {},
   "outputs": [],
   "source": [
    "#Load the data and parse it using spark"
   ]
  },
  {
   "cell_type": "code",
   "execution_count": 6,
   "metadata": {},
   "outputs": [
    {
     "data": {
      "text/plain": [
       "[('1', '31', '2.5'),\n",
       " ('1', '1029', '3.0'),\n",
       " ('1', '1061', '3.0'),\n",
       " ('1', '1129', '2.0'),\n",
       " ('1', '1172', '4.0')]"
      ]
     },
     "execution_count": 6,
     "metadata": {},
     "output_type": "execute_result"
    }
   ],
   "source": [
    "from pyspark import SparkContext,SparkConf\n",
    "from pyspark.mllib.recommendation import ALS, MatrixFactorizationModel, Rating\n",
    "\n",
    "sc  = SparkContext()\n",
    "#Load the ratings file \n",
    "data = sc.textFile(\"/Users/archana/Documents/Projects/Recommender_System/MovieLens/ml-latest-small/ratings.csv\")\n",
    "rdd =  data.map(lambda line: line.split(','))\n",
    "#Remove the header from the csv file read\n",
    "header = rdd.first()\n",
    "rdd = rdd.filter(lambda line: line != header)\n",
    "#REmoving Timestamp column and haveing only userId, MovieId and Ratings\n",
    "rating_data = rdd.map(lambda line : (line[0],line[1],line[2]))\n",
    "rating_data.take(5)"
   ]
  },
  {
   "cell_type": "code",
   "execution_count": 7,
   "metadata": {},
   "outputs": [],
   "source": [
    "# Reference : https://spark.apache.org/docs/2.2.0/api/python/pyspark.mllib.html#pyspark.mllib.recommendation.ALS\n",
    "# Parameters: \n",
    "# ratings – RDD of Rating or (userID, productID, rating) tuple.\n",
    "# rank – Number of features to use (also referred to as the number of latent factors).\n",
    "# iterations – Number of iterations of ALS. (default: 5)\n",
    "# lambda – Regularization parameter. (default: 0.01)\n",
    "# blocks – Number of blocks used to parallelize the computation. A value of -1 will use an auto-configured number of blocks. (default: -1)\n",
    "# alpha – A constant used in computing confidence. (default: 0.01)\n",
    "# nonnegative – A value of True will solve least-squares with nonnegativity constraints. (default: False)\n",
    "# seed – Random seed for initial matrix factorization model. A value of None will use system time as the seed. (default: None)\n",
    "\n",
    "# Initialize rank to 10 and iterations as 10\n",
    "\n",
    "rank = 10\n",
    "iterations = 10\n",
    "\n",
    "#Train a model for the given data\n",
    "model = ALS.train(rating_data, rank, iterations)"
   ]
  },
  {
   "cell_type": "code",
   "execution_count": 8,
   "metadata": {},
   "outputs": [
    {
     "data": {
      "text/plain": [
       "(4,\n",
       " array('d', [-0.912808895111084, 0.6975384950637817, 0.44138476252555847, 0.5536988973617554, 1.851621389389038, 0.7033200263977051, 0.08659005910158157, -0.7737082839012146, -1.4310253858566284, -0.3459320068359375]))"
      ]
     },
     "execution_count": 8,
     "metadata": {},
     "output_type": "execute_result"
    }
   ],
   "source": [
    "#Displays the first row of the product feature matrix\n",
    "model.productFeatures().first()"
   ]
  },
  {
   "cell_type": "code",
   "execution_count": 9,
   "metadata": {},
   "outputs": [
    {
     "data": {
      "text/plain": [
       "(4,\n",
       " array('d', [-0.5362852811813354, 0.625486433506012, -0.002939474070444703, -0.5402898788452148, 1.0157285928726196, -0.054121218621730804, 0.2876712381839752, -0.48325034976005554, -0.5564104318618774, -0.03544832393527031]))"
      ]
     },
     "execution_count": 9,
     "metadata": {},
     "output_type": "execute_result"
    }
   ],
   "source": [
    "#Displays the first row of the user feature matrix\n",
    "model.userFeatures().first()"
   ]
  },
  {
   "cell_type": "code",
   "execution_count": 101,
   "metadata": {},
   "outputs": [
    {
     "data": {
      "text/plain": [
       "[Rating(user=5, product=5959, rating=6.452139027697633),\n",
       " Rating(user=5, product=1034, rating=6.000732588789519),\n",
       " Rating(user=5, product=89904, rating=5.956621352876272),\n",
       " Rating(user=5, product=1649, rating=5.801531782627663),\n",
       " Rating(user=5, product=1411, rating=5.729648083007195),\n",
       " Rating(user=5, product=3365, rating=5.711824594402292),\n",
       " Rating(user=5, product=1050, rating=5.620523538861128),\n",
       " Rating(user=5, product=7064, rating=5.573826659634433),\n",
       " Rating(user=5, product=122904, rating=5.529775110354646),\n",
       " Rating(user=5, product=2120, rating=5.496883618869416)]"
      ]
     },
     "execution_count": 101,
     "metadata": {},
     "output_type": "execute_result"
    }
   ],
   "source": [
    "#Displays the top 10 recommended movies for user 5 \n",
    "recommendMovies = model.recommendProducts(5,10)\n",
    "recommendMovies"
   ]
  },
  {
   "cell_type": "code",
   "execution_count": 33,
   "metadata": {},
   "outputs": [
    {
     "data": {
      "text/plain": [
       "[('1', '31'), ('1', '1029'), ('1', '1061'), ('1', '1129'), ('1', '1172')]"
      ]
     },
     "execution_count": 33,
     "metadata": {},
     "output_type": "execute_result"
    }
   ],
   "source": [
    "# To evaluate the model, take only user and product from the \n",
    "# training data. (i.e drop the rating)\n",
    "testdata = rating_data.map(lambda p: (p[0], p[1]))\n",
    "testdata.take(5)"
   ]
  },
  {
   "cell_type": "code",
   "execution_count": 39,
   "metadata": {},
   "outputs": [
    {
     "data": {
      "text/plain": [
       "[Rating(user=5, product=344, rating=3.729826668276227),\n",
       " Rating(user=5, product=5816, rating=4.1657680595849005),\n",
       " Rating(user=5, product=3408, rating=3.7520828214155433),\n",
       " Rating(user=5, product=2424, rating=4.151401735855002),\n",
       " Rating(user=5, product=8464, rating=3.6188992045703596)]"
      ]
     },
     "execution_count": 39,
     "metadata": {},
     "output_type": "execute_result"
    }
   ],
   "source": [
    "#Predict the ratings for all the Test Data\n",
    "predictions = model.predictAll(testdata)\n",
    "predictions.filter(lambda l: l[0]==5).take(5)"
   ]
  },
  {
   "cell_type": "code",
   "execution_count": 67,
   "metadata": {},
   "outputs": [
    {
     "data": {
      "text/plain": [
       "[('1', 'Toy Story (1995)'),\n",
       " ('2', 'Jumanji (1995)'),\n",
       " ('3', 'Grumpier Old Men (1995)'),\n",
       " ('4', 'Waiting to Exhale (1995)'),\n",
       " ('5', 'Father of the Bride Part II (1995)')]"
      ]
     },
     "execution_count": 67,
     "metadata": {},
     "output_type": "execute_result"
    }
   ],
   "source": [
    "#Load the movie data \n",
    "data = sc.textFile(\"/Users/archana/Documents/Projects/Recommender_System/MovieLens/ml-latest-small/movies.csv\")\n",
    "rdd =  data.map(lambda line: line.split(','))\n",
    "#Remove the header from the csv file read\n",
    "header = rdd.first()\n",
    "rdd = rdd.filter(lambda line: line != header)\n",
    "#REmoving Timestamp column and haveing only userId, MovieId and Ratings\n",
    "movie_data = rdd.map(lambda line : ((line[0],line[1])))\n",
    "movie_data.take(5)"
   ]
  },
  {
   "cell_type": "code",
   "execution_count": 102,
   "metadata": {},
   "outputs": [
    {
     "data": {
      "text/plain": [
       "[5959, 1034, 89904, 1649, 1411, 3365, 1050, 7064, 122904, 2120]"
      ]
     },
     "execution_count": 102,
     "metadata": {},
     "output_type": "execute_result"
    }
   ],
   "source": [
    "#Mapping movie names with the result of recommended products(line 10)recommendMovies_movieID = recommendMovies.map(lambda l: l[1])\n",
    "recommendedMovieID = sc.parallelize(recommendMovies).map(lambda l: l[1])\n",
    "recommendedMovieID.collect()"
   ]
  },
  {
   "cell_type": "code",
   "execution_count": 103,
   "metadata": {},
   "outputs": [
    {
     "name": "stdout",
     "output_type": "stream",
     "text": [
      "Top ten movie recommendation for user 5 are: \n",
      "\n",
      "Narc (2002)\n",
      "Freeway (1996)\n",
      "The Artist (2011)\n",
      "Fast\n",
      "Hamlet (1996)\n",
      "Searchers\n",
      "Looking for Richard (1996)\n",
      "Beauty and the Beast (La belle et la bête) (1946)\n",
      "Deadpool (2016)\n",
      "Needful Things (1993)\n"
     ]
    }
   ],
   "source": [
    "#Print the top movies\n",
    "print(\"Top ten movie recommendation for User ID 5 is: \\n\")\n",
    "for i in recommendedMovieID.toLocalIterator():\n",
    "    print(str(movie_data.lookup(str(i))).strip('[\\'\\\"]'));"
   ]
  },
  {
   "cell_type": "code",
   "execution_count": null,
   "metadata": {},
   "outputs": [],
   "source": [
    "#End"
   ]
  }
 ],
 "metadata": {
  "kernelspec": {
   "display_name": "Python 3",
   "language": "python",
   "name": "python3"
  },
  "language_info": {
   "codemirror_mode": {
    "name": "ipython",
    "version": 3
   },
   "file_extension": ".py",
   "mimetype": "text/x-python",
   "name": "python",
   "nbconvert_exporter": "python",
   "pygments_lexer": "ipython3",
   "version": "3.4.3"
  }
 },
 "nbformat": 4,
 "nbformat_minor": 2
}
